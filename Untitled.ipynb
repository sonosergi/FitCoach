{
 "cells": [
  {
   "cell_type": "code",
   "execution_count": 6,
   "id": "beeeced1",
   "metadata": {},
   "outputs": [],
   "source": [
    "from metaseg import SegAutoMaskPredictor, SegManualMaskPredictor\n",
    "import tensorflow as tf\n",
    "import os"
   ]
  },
  {
   "cell_type": "code",
   "execution_count": null,
   "id": "737acf38",
   "metadata": {},
   "outputs": [
    {
     "name": "stderr",
     "output_type": "stream",
     "text": [
      "OpenCV: FFMPEG: tag 0x44495658/'XVID' is not supported with codec id 12 and format 'mp4 / MP4 (MPEG-4 Part 14)'\n",
      "OpenCV: FFMPEG: fallback to use tag 0x7634706d/'mp4v'\n",
      "  0%|                                                   | 0/643 [00:00<?, ?it/s]"
     ]
    },
    {
     "name": "stdout",
     "output_type": "stream",
     "text": [
      "vit_l model already exists as 'vit_l.pth'. Skipping download.\n"
     ]
    },
    {
     "name": "stderr",
     "output_type": "stream",
     "text": [
      "  1%|▌                                       | 9/643 [13:40<16:03:02, 91.14s/it]\n"
     ]
    }
   ],
   "source": [
    "os.environ[\"CUDA_VISIBLE_DEVICES\"]=\"0\"\n",
    "\n",
    "with tf.device('/gpu:0'):\n",
    "    result = SegAutoMaskPredictor().video_predict(\n",
    "        source='video.mp4',\n",
    "        model_type='vit_l',\n",
    "        points_per_side=16,\n",
    "        points_per_batch=64,\n",
    "        min_area=1000,\n",
    "        output_path='videoseg.mp4')"
   ]
  }
 ],
 "metadata": {
  "kernelspec": {
   "display_name": "Python 3 (ipykernel)",
   "language": "python",
   "name": "python3"
  },
  "language_info": {
   "codemirror_mode": {
    "name": "ipython",
    "version": 3
   },
   "file_extension": ".py",
   "mimetype": "text/x-python",
   "name": "python",
   "nbconvert_exporter": "python",
   "pygments_lexer": "ipython3",
   "version": "3.10.6"
  }
 },
 "nbformat": 4,
 "nbformat_minor": 5
}
