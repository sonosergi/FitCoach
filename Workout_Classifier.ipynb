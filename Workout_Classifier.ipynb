{
  "cells": [
    {
      "cell_type": "markdown",
      "metadata": {
        "id": "view-in-github",
        "colab_type": "text"
      },
      "source": [
        "<a href=\"https://colab.research.google.com/github/sonosergi/FitCoach/blob/main/Workout_Classifier.ipynb\" target=\"_parent\"><img src=\"https://colab.research.google.com/assets/colab-badge.svg\" alt=\"Open In Colab\"/></a>"
      ]
    },
    {
      "cell_type": "code",
      "execution_count": null,
      "metadata": {
        "id": "5XIOh6kj9IEN"
      },
      "outputs": [],
      "source": [
        "from google.colab import drive\n",
        "drive.mount('/content/drive')"
      ]
    },
    {
      "cell_type": "markdown",
      "metadata": {
        "id": "_jgBIYCLJfey"
      },
      "source": [
        "### IMPORT MODULES\n"
      ]
    },
    {
      "cell_type": "code",
      "execution_count": null,
      "metadata": {
        "id": "TwCVRIfbKmyk"
      },
      "outputs": [],
      "source": [
        "import os\n",
        "import cv2\n",
        "import random\n",
        "import numpy as np\n",
        "import pandas as pd\n",
        "import zipfile\n",
        "import tensorflow as tf\n",
        "%matplotlib inline\n",
        "import matplotlib.pyplot as plt\n",
        "import matplotlib.image as mpimg\n",
        "import string\n",
        "import tensorflow as tf\n",
        "from tensorflow.keras.preprocessing.image import ImageDataGenerator\n",
        "from sklearn.model_selection import train_test_split\n",
        "from tensorflow.keras.preprocessing import image_dataset_from_directory"
      ]
    },
    {
      "cell_type": "code",
      "execution_count": null,
      "metadata": {
        "id": "v9MFOFib93qO"
      },
      "outputs": [],
      "source": [
        "from datetime import datetime\n",
        "from collections import deque\n",
        "from tensorflow.keras.callbacks import EarlyStopping\n",
        "from tensorflow.keras.applications import InceptionResNetV2"
      ]
    },
    {
      "cell_type": "markdown",
      "metadata": {
        "id": "gH0schbomL4t"
      },
      "source": [
        "### IMPORT DATA"
      ]
    },
    {
      "cell_type": "code",
      "execution_count": null,
      "metadata": {
        "id": "oOnApLCVGDtU"
      },
      "outputs": [],
      "source": [
        "url = '/content/drive/MyDrive/Colab Notebooks/iTrainer/archive.zip'\n",
        "zip_ref = zipfile.ZipFile(url, \"r\")\n",
        "zip_ref.extractall(\"/tmp/Data-Keggle\")\n",
        "zip_ref.close()"
      ]
    },
    {
      "cell_type": "markdown",
      "metadata": {
        "id": "QeLVU8rmJKNe"
      },
      "source": [
        "### HYPERPARAMETER"
      ]
    },
    {
      "cell_type": "code",
      "execution_count": null,
      "metadata": {
        "id": "1XbYlZL0JDf7"
      },
      "outputs": [],
      "source": [
        "height = 256\n",
        "width = 256\n",
        "channels = 3\n",
        "BATCH_SIZE = 32\n",
        "SEED = 127\n",
        "img_shape = (height, width, channels)\n",
        "IMG_SIZE = (height, width)\n",
        "CLASSES = 22"
      ]
    },
    {
      "cell_type": "markdown",
      "metadata": {
        "id": "RgsPX6AcJpxY"
      },
      "source": [
        "### ETL DATA"
      ]
    },
    {
      "cell_type": "code",
      "execution_count": null,
      "metadata": {
        "id": "v7meDLOAyuy1"
      },
      "outputs": [],
      "source": [
        "DATA_DIR = '/tmp/Data-Keggle'\n",
        "\n",
        "# dividir el conjunto de datos en entrenamiento (80%) y prueba (20%)\n",
        "training_data = tf.keras.utils.image_dataset_from_directory(DATA_DIR,\n",
        "  labels = 'inferred',\n",
        "  label_mode = 'categorical',\n",
        "  validation_split = 0.3,\n",
        "  subset = 'training',\n",
        "  image_size = IMG_SIZE,\n",
        "  shuffle = True,\n",
        "  batch_size = BATCH_SIZE,\n",
        "  seed = 127\n",
        "  )\n",
        "\n",
        "test_data = tf.keras.utils.image_dataset_from_directory(DATA_DIR,\n",
        "  labels = 'inferred',\n",
        "  label_mode = 'categorical',\n",
        "  validation_split = 0.3,\n",
        "  subset = 'validation',\n",
        "  image_size = IMG_SIZE,\n",
        "  shuffle = True,\n",
        "  batch_size = BATCH_SIZE,\n",
        "  seed = 127\n",
        ")\n",
        "\n",
        "labels = training_data.class_names\n",
        "print(labels)\n",
        "\n",
        "with open('workout_label.txt', 'w') as f:\n",
        "    for workout_class in labels:\n",
        "        f.write(f'{workout_class}\\n')"
      ]
    },
    {
      "cell_type": "code",
      "execution_count": null,
      "metadata": {
        "id": "r7OzgJESqrcj"
      },
      "outputs": [],
      "source": [
        "#training_data = ImageDataGenerator(rescale = 1/255)\n",
        "#test_data = ImageDataGenerator(rescale = 1/255)"
      ]
    },
    {
      "cell_type": "markdown",
      "metadata": {
        "id": "g94cEh7-X1Zl"
      },
      "source": [
        "### DATA AUGMENTATION"
      ]
    },
    {
      "cell_type": "code",
      "execution_count": null,
      "metadata": {
        "id": "tW3Opf1eX0n-"
      },
      "outputs": [],
      "source": [
        "data_augmentation = tf.keras.Sequential([\n",
        "  tf.keras.layers.RandomFlip(\"horizontal\"),\n",
        "  tf.keras.layers.RandomRotation(0.2),\n",
        "  tf.keras.layers.RandomZoom(0.2),\n",
        "  tf.keras.layers.RandomContrast(0.2),\n",
        "  tf.keras.layers.GaussianNoise(0.2),\n",
        "  tf.keras.layers.RandomBrightness(0.2)\n",
        "])\n",
        "\n",
        "training_data = training_data.map(lambda x, y: (data_augmentation(x, training=True), y))"
      ]
    },
    {
      "cell_type": "code",
      "execution_count": null,
      "metadata": {
        "id": "BeIj30LcTq4X"
      },
      "outputs": [],
      "source": [
        "def show_img(data):\n",
        "    plt.figure(figsize=(10,10))\n",
        "    for images, labels in data.take(1):\n",
        "        for i in range(9):\n",
        "            ax = plt.subplot(3, 3, i + 1)\n",
        "            ax.imshow(images[i].numpy().astype(\"uint8\"))\n",
        "            ax.axis(\"off\")"
      ]
    },
    {
      "cell_type": "code",
      "execution_count": null,
      "metadata": {
        "id": "NaU4zWZpWqRJ"
      },
      "outputs": [],
      "source": [
        "show_img(training_data)"
      ]
    },
    {
      "cell_type": "markdown",
      "metadata": {
        "id": "i24fov8z9sNG"
      },
      "source": [
        "### MODEL"
      ]
    },
    {
      "cell_type": "code",
      "execution_count": null,
      "metadata": {
        "id": "HfeifktnpHs_"
      },
      "outputs": [],
      "source": [
        "pre_trained_model = InceptionResNetV2(weights='imagenet', include_top=False, input_shape=img_shape, pooling='avg')\n",
        "\n",
        "for layer in pre_trained_model.layers:\n",
        "    layer.trainable = False\n",
        "\n",
        "pre_trained_model.summary()"
      ]
    },
    {
      "cell_type": "markdown",
      "metadata": {
        "id": "yg67lUbsTiXS"
      },
      "source": [
        "#### Congelamos el modelo "
      ]
    },
    {
      "cell_type": "code",
      "execution_count": null,
      "metadata": {
        "id": "dVtW6-FxsOtg"
      },
      "outputs": [],
      "source": [
        "x = pre_trained_model.output\n",
        "x = tf.keras.layers.BatchNormalization(axis=-1, momentum=0.99, epsilon=0.001)(x)\n",
        "x = tf.keras.layers.Dropout(0.2)(x)\n",
        "x = tf.keras.layers.Dense(1024, activation='relu')(x)\n",
        "x = tf.keras.layers.Dense(512, activation='relu')(x)\n",
        "x = tf.keras.layers.Dense(256, activation='relu')(x)\n",
        "x = tf.keras.layers.Dropout(0.2)(x)\n",
        "predictions = tf.keras.layers.Dense(len(labels), activation='softmax')(x)\n",
        "\n",
        "iTrainer = tf.keras.models.Model(inputs = pre_trained_model.input, \n",
        "                                      outputs = predictions\n",
        "                                     )\n",
        "\n",
        "iTrainer.compile(optimizer = tf.keras.optimizers.Adam(learning_rate=0.0001),\n",
        "                      loss='categorical_crossentropy',\n",
        "                      metrics=['accuracy']\n",
        "                     )\n",
        "\n",
        "iTrainer.summary()"
      ]
    },
    {
      "cell_type": "markdown",
      "metadata": {
        "id": "trVLHHmfnU6s"
      },
      "source": [
        "### TRAIN"
      ]
    },
    {
      "cell_type": "code",
      "execution_count": null,
      "metadata": {
        "id": "16gY0WT3znvG"
      },
      "outputs": [],
      "source": [
        "early_stopping_callback = EarlyStopping(monitor = 'loss', \n",
        "                                        patience = 5, \n",
        "                                        mode = 'auto', \n",
        "                                        restore_best_weights = True\n",
        "                                       )\n",
        "\n",
        "history = iTrainer.fit(training_data,\n",
        "                            validation_data = test_data,\n",
        "                            epochs = 200,\n",
        "                            callbacks = [early_stopping_callback]\n",
        "                           )"
      ]
    },
    {
      "cell_type": "code",
      "execution_count": null,
      "metadata": {
        "id": "ijCxzzRuvtpN"
      },
      "outputs": [],
      "source": [
        "current_datetime = datetime.now()\n",
        "\n",
        "# Save Model\n",
        "iTrainer.save(f'iTrainer_{current_datetime}')\n",
        "\n",
        "# Save .h5 model\n",
        "iTrainer.save(f'iTrainer_{current_datetime}.h5')\n",
        "\n",
        "# Convert the model to tflite\n",
        "converter = tf.lite.TFLiteConverter.from_saved_model(f'/content/drive/MyDrive/Colab Notebooks/iTrainer/Models/iTrainer_{current_datetime}')\n",
        "#converter = tf.lite.TFLiteConverter.from_saved_model(f'./iTrainer_{current_datetime}')\n",
        "tflite_model = converter.convert()\n",
        "\n",
        "# Save the tflite model\n",
        "with open(f'iTrainer{current_datetime}.tflite', 'wb') as f:\n",
        "    f.write(tflite_model)"
      ]
    },
    {
      "cell_type": "code",
      "execution_count": null,
      "metadata": {
        "id": "qxGbvN5d24vf"
      },
      "outputs": [],
      "source": [
        "!pip install tensorflowjs"
      ]
    },
    {
      "cell_type": "code",
      "execution_count": null,
      "metadata": {
        "id": "bqt2mhkG256e"
      },
      "outputs": [],
      "source": [
        "!tensorflowjs_converter --input_format keras perros-gatos-cnn-ad.h5 carpeta_salida"
      ]
    }
  ],
  "metadata": {
    "accelerator": "GPU",
    "colab": {
      "provenance": [],
      "machine_shape": "hm",
      "authorship_tag": "ABX9TyO6Yu83/bKha2kE0blxDMch",
      "include_colab_link": true
    },
    "gpuClass": "premium",
    "kernelspec": {
      "display_name": "Python 3",
      "name": "python3"
    },
    "language_info": {
      "name": "python"
    }
  },
  "nbformat": 4,
  "nbformat_minor": 0
}